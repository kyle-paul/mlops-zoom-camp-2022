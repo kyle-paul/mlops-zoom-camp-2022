{
 "cells": [
  {
   "cell_type": "markdown",
   "id": "f00131d7",
   "metadata": {},
   "source": [
    "# Scenario 1: A single data scientist participating in an ML competition\n",
    "MLflow setup:\n",
    "\n",
    "- Tracking server: no\n",
    "- Backend store: local filesystem\n",
    "- Artifacts store: local filesystem\n",
    "- The experiments can be explored locally by launching the MLflow UI."
   ]
  },
  {
   "cell_type": "code",
   "execution_count": 1,
   "id": "afb875f3",
   "metadata": {},
   "outputs": [],
   "source": [
    "import mlflow"
   ]
  },
  {
   "cell_type": "code",
   "execution_count": 3,
   "id": "e3f47af1",
   "metadata": {},
   "outputs": [
    {
     "name": "stdout",
     "output_type": "stream",
     "text": [
      "tracking URI: 'file:///home/kylepaul/notebooks/mlops-zoom-camp-2022/session_2/running-mlflow-exmaples/mlruns'\n"
     ]
    }
   ],
   "source": [
    "print(f\"tracking URI: '{mlflow.get_tracking_uri()}'\")b"
   ]
  },
  {
   "cell_type": "code",
   "execution_count": 5,
   "id": "3df45f58",
   "metadata": {
    "scrolled": false
   },
   "outputs": [
    {
     "data": {
      "text/plain": [
       "[<Experiment: artifact_location='file:///home/kylepaul/notebooks/mlops-zoom-camp-2022/session_2/running-mlflow-exmaples/mlruns/0', creation_time=1685480696852, experiment_id='0', last_update_time=1685480696852, lifecycle_stage='active', name='Default', tags={}>]"
      ]
     },
     "execution_count": 5,
     "metadata": {},
     "output_type": "execute_result"
    }
   ],
   "source": [
    "mlflow.search_experiments()"
   ]
  },
  {
   "cell_type": "markdown",
   "id": "6c44f47f",
   "metadata": {},
   "source": [
    "## Creating an experiment and logging a new run"
   ]
  },
  {
   "cell_type": "code",
   "execution_count": 8,
   "id": "4df7306c",
   "metadata": {},
   "outputs": [
    {
     "name": "stdout",
     "output_type": "stream",
     "text": [
      "default artifacts URI: 'file:///home/kylepaul/notebooks/mlops-zoom-camp-2022/session_2/running-mlflow-exmaples/mlruns/322087927344521053/3ee44b85720242238f1b9033c6b0d3e2/artifacts'\n"
     ]
    },
    {
     "name": "stderr",
     "output_type": "stream",
     "text": [
      "/home/kylepaul/anaconda3/lib/python3.10/site-packages/_distutils_hack/__init__.py:33: UserWarning: Setuptools is replacing distutils.\n",
      "  warnings.warn(\"Setuptools is replacing distutils.\")\n"
     ]
    }
   ],
   "source": [
    "from sklearn.linear_model import LogisticRegression\n",
    "from sklearn.datasets import load_iris\n",
    "from sklearn.metrics import accuracy_score\n",
    "\n",
    "mlflow.set_experiment(\"my-experiment-1\")\n",
    "\n",
    "with mlflow.start_run():\n",
    "    \n",
    "    X, y = load_iris(return_X_y=True)\n",
    "    \n",
    "    params = {\"C\": 0.1, \"random_state\": 42}\n",
    "    mlflow.log_params(params)\n",
    "    \n",
    "    model_lr = LogisticRegression(**params).fit(X,y)\n",
    "    y_pred = model_lr.predict(X)\n",
    "    mlflow.log_metric(\"accuracy\", accuracy_score(y, y_pred))\n",
    "    \n",
    "    mlflow.sklearn.log_model(model_lr, artifact_path=\"models\")\n",
    "    print(f\"default artifacts URI: '{mlflow.get_artifact_uri()}'\")"
   ]
  },
  {
   "cell_type": "code",
   "execution_count": 9,
   "id": "6bb372e4",
   "metadata": {
    "scrolled": true
   },
   "outputs": [
    {
     "data": {
      "text/plain": [
       "[<Experiment: artifact_location='file:///home/kylepaul/notebooks/mlops-zoom-camp-2022/session_2/running-mlflow-exmaples/mlruns/322087927344521053', creation_time=1685481097124, experiment_id='322087927344521053', last_update_time=1685481097124, lifecycle_stage='active', name='my-experiment-1', tags={}>,\n",
       " <Experiment: artifact_location='file:///home/kylepaul/notebooks/mlops-zoom-camp-2022/session_2/running-mlflow-exmaples/mlruns/0', creation_time=1685480696852, experiment_id='0', last_update_time=1685480696852, lifecycle_stage='active', name='Default', tags={}>]"
      ]
     },
     "execution_count": 9,
     "metadata": {},
     "output_type": "execute_result"
    }
   ],
   "source": [
    "mlflow.search_experiments()"
   ]
  },
  {
   "cell_type": "markdown",
   "id": "db7b9737",
   "metadata": {},
   "source": [
    "xml file created in folder 0\n",
    "\n",
    "artifact_location: file:///home/kylepaul/notebooks/mlops-zoom-camp-2022/session_2/running-mlflow-exmaples/mlruns/0\n",
    "creation_time: 1685480696852\n",
    "experiment_id: '0'\n",
    "last_update_time: 1685480696852\n",
    "lifecycle_stage: active\n",
    "name: Default"
   ]
  },
  {
   "cell_type": "code",
   "execution_count": null,
   "id": "d7bec89f",
   "metadata": {},
   "outputs": [],
   "source": [
    "xml file created in folder 1\n",
    "\n",
    "artifact_location: file:///home/kylepaul/notebooks/mlops-zoom-camp-2022/session_2/running-mlflow-exmaples/mlruns/322087927344521053\n",
    "creation_time: 1685481097124\n",
    "experiment_id: '322087927344521053'\n",
    "last_update_time: 1685481097124\n",
    "lifecycle_stage: active\n",
    "name: my-experiment-1"
   ]
  },
  {
   "cell_type": "markdown",
   "id": "ed9cdd6d",
   "metadata": {},
   "source": [
    "## interacting with the model registry"
   ]
  },
  {
   "cell_type": "code",
   "execution_count": 10,
   "id": "24135497",
   "metadata": {},
   "outputs": [],
   "source": [
    "from mlflow.tracking import MlflowClient\n",
    "\n",
    "client = MlflowClient()"
   ]
  },
  {
   "cell_type": "code",
   "execution_count": 13,
   "id": "ed415600",
   "metadata": {},
   "outputs": [],
   "source": [
    "from mlflow.exceptions import MlflowException\n",
    "\n",
    "try:\n",
    "    client.search_registered_models()\n",
    "except MlflowException:\n",
    "    print(\"It's not possible to access the model registry :(\")"
   ]
  }
 ],
 "metadata": {
  "kernelspec": {
   "display_name": "Python 3 (ipykernel)",
   "language": "python",
   "name": "python3"
  },
  "language_info": {
   "codemirror_mode": {
    "name": "ipython",
    "version": 3
   },
   "file_extension": ".py",
   "mimetype": "text/x-python",
   "name": "python",
   "nbconvert_exporter": "python",
   "pygments_lexer": "ipython3",
   "version": "3.10.9"
  }
 },
 "nbformat": 4,
 "nbformat_minor": 5
}
