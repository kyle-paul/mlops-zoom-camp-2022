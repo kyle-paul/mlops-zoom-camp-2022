{
 "cells": [
  {
   "cell_type": "markdown",
   "id": "7d6474f4",
   "metadata": {},
   "source": [
    "# MLflow's Model Registry"
   ]
  },
  {
   "cell_type": "markdown",
   "id": "aba0c750",
   "metadata": {},
   "source": [
    "## Interacting with the MLflow tracking server\n",
    "The `MlflowClient object`allows us to interact with: \n",
    "- an MLflow Tracking Server that creates and manages experiments and runs.\n",
    "- an MLflow Registry Server that creates and manages registered models and model versions.\n",
    "To instantiate it we need to pass a tracking URI and/or a registry URI"
   ]
  },
  {
   "cell_type": "code",
   "execution_count": 7,
   "id": "280ac902",
   "metadata": {
    "scrolled": true
   },
   "outputs": [
    {
     "data": {
      "text/plain": [
       "[<Experiment: artifact_location='/home/kylepaul/notebooks/mlops-zoom-camp-2022/session_2/mlruns/1', creation_time=1685346804195, experiment_id='1', last_update_time=1685346804195, lifecycle_stage='active', name='nyc-taxi-experiment', tags={}>,\n",
       " <Experiment: artifact_location='mlflow-artifacts:/0', creation_time=1685346718761, experiment_id='0', last_update_time=1685346718761, lifecycle_stage='active', name='Default', tags={}>]"
      ]
     },
     "execution_count": 7,
     "metadata": {},
     "output_type": "execute_result"
    }
   ],
   "source": [
    "from mlflow.tracking import MlflowClient\n",
    "\n",
    "MLFLOW_TRACKING_URI = \"sqlite:///mlflow.db\"\n",
    "client = MlflowClient(tracking_uri=MLFLOW_TRACKING_URI)\n",
    "client.search_experiments()"
   ]
  },
  {
   "cell_type": "code",
   "execution_count": 8,
   "id": "18a641b0",
   "metadata": {},
   "outputs": [
    {
     "data": {
      "text/plain": [
       "'2'"
      ]
     },
     "execution_count": 8,
     "metadata": {},
     "output_type": "execute_result"
    }
   ],
   "source": [
    "client.create_experiment(name=\"my-cool-experiment\")"
   ]
  },
  {
   "cell_type": "code",
   "execution_count": 13,
   "id": "f0ba5483",
   "metadata": {},
   "outputs": [],
   "source": [
    "from mlflow.entities import ViewType\n",
    "\n",
    "runs = client.search_runs(\n",
    "    experiment_ids = '1',\n",
    "    filter_string = \"metrics.rmse < 5.9\",\n",
    "    run_view_type = ViewType.ACTIVE_ONLY,\n",
    "    max_results = 5,\n",
    "    order_by=[\"metrics.rmse ASC\"]\n",
    ")"
   ]
  },
  {
   "cell_type": "code",
   "execution_count": 11,
   "id": "a3e7d36e",
   "metadata": {},
   "outputs": [
    {
     "data": {
      "text/plain": [
       "[<Run: data=<RunData: metrics={'rmse': 5.80905971329649}, params={'learning_rate': '0.42573168654483656',\n",
       "  'max_depth': '10',\n",
       "  'min_child_weight': '3.2482026447444605',\n",
       "  'objective': 'reg:linear',\n",
       "  'reg_alpha': '0.04266778935139865',\n",
       "  'reg_lambda': '0.011203537317262537',\n",
       "  'seed': '42'}, tags={'mlflow.log-model.history': '[{\"run_id\": \"8264fb3eb8fb47f69ce47e08af58922b\", '\n",
       "                              '\"artifact_path\": \"models_mlflow\", '\n",
       "                              '\"utc_time_created\": \"2023-05-30 '\n",
       "                              '17:49:53.806500\", \"flavors\": {\"python_function\": '\n",
       "                              '{\"loader_module\": \"mlflow.xgboost\", '\n",
       "                              '\"python_version\": \"3.10.9\", \"data\": \"model.xgb\", '\n",
       "                              '\"env\": {\"conda\": \"conda.yaml\", \"virtualenv\": '\n",
       "                              '\"python_env.yaml\"}}, \"xgboost\": {\"xgb_version\": '\n",
       "                              '\"1.7.5\", \"data\": \"model.xgb\", \"model_class\": '\n",
       "                              '\"xgboost.core.Booster\", \"model_format\": \"xgb\", '\n",
       "                              '\"code\": null}}, \"model_uuid\": '\n",
       "                              '\"4f5fc8fc6e9e4b6684e54d80eb4fbc3e\", '\n",
       "                              '\"mlflow_version\": \"2.3.2\"}]',\n",
       "  'mlflow.runName': 'flawless-bird-956',\n",
       "  'mlflow.source.name': '/home/kylepaul/anaconda3/lib/python3.10/site-packages/ipykernel_launcher.py',\n",
       "  'mlflow.source.type': 'LOCAL',\n",
       "  'mlflow.user': 'kylepaul'}>, info=<RunInfo: artifact_uri='/home/kylepaul/notebooks/mlops-zoom-camp-2022/session_2/mlruns/1/8264fb3eb8fb47f69ce47e08af58922b/artifacts', end_time=None, experiment_id='1', lifecycle_stage='active', run_id='8264fb3eb8fb47f69ce47e08af58922b', run_name='flawless-bird-956', run_uuid='8264fb3eb8fb47f69ce47e08af58922b', start_time=1685468973458, status='RUNNING', user_id='kylepaul'>>,\n",
       " <Run: data=<RunData: metrics={'rmse': 5.80905971329649}, params={'learning_rate': '0.42573168654483656',\n",
       "  'max_depth': '10',\n",
       "  'min_child_weight': '3.2482026447444605',\n",
       "  'objective': 'reg:linear',\n",
       "  'reg_alpha': '0.04266778935139865',\n",
       "  'reg_lambda': '0.011203537317262537',\n",
       "  'seed': '42'}, tags={'mlflow.runName': 'bright-bass-720',\n",
       "  'mlflow.source.name': '/home/kylepaul/anaconda3/lib/python3.10/site-packages/ipykernel_launcher.py',\n",
       "  'mlflow.source.type': 'LOCAL',\n",
       "  'mlflow.user': 'kylepaul',\n",
       "  'model': 'xgboost'}>, info=<RunInfo: artifact_uri='/home/kylepaul/notebooks/mlops-zoom-camp-2022/session_2/mlruns/1/8ece72949f984fa3972c265e1b56a8c2/artifacts', end_time=1685349476480, experiment_id='1', lifecycle_stage='active', run_id='8ece72949f984fa3972c265e1b56a8c2', run_name='bright-bass-720', run_uuid='8ece72949f984fa3972c265e1b56a8c2', start_time=1685349401365, status='FINISHED', user_id='kylepaul'>>,\n",
       " <Run: data=<RunData: metrics={'rmse': 5.828943055790848}, params={'learning_rate': '0.19715755279438343',\n",
       "  'max_depth': '36',\n",
       "  'min_child_weight': '1.0919423581703347',\n",
       "  'objective': 'reg:linear',\n",
       "  'reg_alpha': '0.2239084853579576',\n",
       "  'reg_lambda': '0.15938292351590488',\n",
       "  'seed': '42'}, tags={'mlflow.runName': 'clumsy-fly-784',\n",
       "  'mlflow.source.name': '/home/kylepaul/anaconda3/lib/python3.10/site-packages/ipykernel_launcher.py',\n",
       "  'mlflow.source.type': 'LOCAL',\n",
       "  'mlflow.user': 'kylepaul',\n",
       "  'model': 'xgboost'}>, info=<RunInfo: artifact_uri='/home/kylepaul/notebooks/mlops-zoom-camp-2022/session_2/mlruns/1/cf1747fba5e24f5d95d856cdc9c569a3/artifacts', end_time=1685349401300, experiment_id='1', lifecycle_stage='active', run_id='cf1747fba5e24f5d95d856cdc9c569a3', run_name='clumsy-fly-784', run_uuid='cf1747fba5e24f5d95d856cdc9c569a3', start_time=1685349282643, status='FINISHED', user_id='kylepaul'>>,\n",
       " <Run: data=<RunData: metrics={'rmse': 5.8636196030048255}, params={'learning_rate': '0.3534314436178384',\n",
       "  'max_depth': '11',\n",
       "  'min_child_weight': '0.9265009424874893',\n",
       "  'objective': 'reg:linear',\n",
       "  'reg_alpha': '0.010330849708406163',\n",
       "  'reg_lambda': '0.008980150397962027',\n",
       "  'seed': '42'}, tags={'mlflow.runName': 'puzzled-trout-598',\n",
       "  'mlflow.source.name': '/home/kylepaul/anaconda3/lib/python3.10/site-packages/ipykernel_launcher.py',\n",
       "  'mlflow.source.type': 'LOCAL',\n",
       "  'mlflow.user': 'kylepaul',\n",
       "  'model': 'xgboost'}>, info=<RunInfo: artifact_uri='/home/kylepaul/notebooks/mlops-zoom-camp-2022/session_2/mlruns/1/9ac35b42b97b4425995e2fdf5aa75778/artifacts', end_time=1685349706460, experiment_id='1', lifecycle_stage='active', run_id='9ac35b42b97b4425995e2fdf5aa75778', run_name='puzzled-trout-598', run_uuid='9ac35b42b97b4425995e2fdf5aa75778', start_time=1685349649963, status='FINISHED', user_id='kylepaul'>>,\n",
       " <Run: data=<RunData: metrics={'rmse': 5.918406076218275}, params={'learning_rate': '0.6403654986975175',\n",
       "  'max_depth': '27',\n",
       "  'min_child_weight': '6.780883854171403',\n",
       "  'objective': 'reg:linear',\n",
       "  'reg_alpha': '0.0854802420049385',\n",
       "  'reg_lambda': '0.0192346833409825',\n",
       "  'seed': '42'}, tags={'mlflow.runName': 'learned-auk-170',\n",
       "  'mlflow.source.name': '/home/kylepaul/anaconda3/lib/python3.10/site-packages/ipykernel_launcher.py',\n",
       "  'mlflow.source.type': 'LOCAL',\n",
       "  'mlflow.user': 'kylepaul',\n",
       "  'model': 'xgboost'}>, info=<RunInfo: artifact_uri='/home/kylepaul/notebooks/mlops-zoom-camp-2022/session_2/mlruns/1/1d94955c9618418085775e431ad94bea/artifacts', end_time=1685349731718, experiment_id='1', lifecycle_stage='active', run_id='1d94955c9618418085775e431ad94bea', run_name='learned-auk-170', run_uuid='1d94955c9618418085775e431ad94bea', start_time=1685349706520, status='FINISHED', user_id='kylepaul'>>]"
      ]
     },
     "execution_count": 11,
     "metadata": {},
     "output_type": "execute_result"
    }
   ],
   "source": [
    "runs"
   ]
  },
  {
   "cell_type": "code",
   "execution_count": 14,
   "id": "27a2c732",
   "metadata": {
    "scrolled": true
   },
   "outputs": [
    {
     "name": "stdout",
     "output_type": "stream",
     "text": [
      "run id: 8264fb3eb8fb47f69ce47e08af58922b, rmse: 5.8091\n",
      "run id: 8ece72949f984fa3972c265e1b56a8c2, rmse: 5.8091\n",
      "run id: cf1747fba5e24f5d95d856cdc9c569a3, rmse: 5.8289\n",
      "run id: 9ac35b42b97b4425995e2fdf5aa75778, rmse: 5.8636\n"
     ]
    }
   ],
   "source": [
    "for run in runs:\n",
    "    print(f\"run id: {run.info.run_id}, rmse: {run.data.metrics['rmse']:.4f}\")"
   ]
  },
  {
   "cell_type": "markdown",
   "id": "7073225d",
   "metadata": {},
   "source": [
    "## Interacting with the Model Registry\n",
    "In this section We will use the MlflowClient instance to:\n",
    "\n",
    "- Register a new version for the experiment `nyc-taxi-regressor`\n",
    "- Retrieve the latests versions of the model nyc-taxi-regressor and check that a new version 4 was created.\n",
    "- Transition the version 4 to `Staging` and adding annotations to it."
   ]
  },
  {
   "cell_type": "code",
   "execution_count": 16,
   "id": "f6099fbb",
   "metadata": {},
   "outputs": [],
   "source": [
    "import mlflow\n",
    "mlflow.set_tracking_uri(MLFLOW_TRACKING_URI)"
   ]
  },
  {
   "cell_type": "code",
   "execution_count": 17,
   "id": "f6c50dec",
   "metadata": {
    "scrolled": true
   },
   "outputs": [
    {
     "name": "stderr",
     "output_type": "stream",
     "text": [
      "Registered model 'nyc-taxi-regressor' already exists. Creating a new version of this model...\n",
      "2023/05/31 02:35:16 INFO mlflow.tracking._model_registry.client: Waiting up to 300 seconds for model version to finish creation. Model name: nyc-taxi-regressor, version 2\n",
      "Created version '2' of model 'nyc-taxi-regressor'.\n"
     ]
    },
    {
     "data": {
      "text/plain": [
       "<ModelVersion: aliases=[], creation_timestamp=1685475316872, current_stage='None', description=None, last_updated_timestamp=1685475316872, name='nyc-taxi-regressor', run_id='cf1747fba5e24f5d95d856cdc9c569a3', run_link=None, source='/home/kylepaul/notebooks/mlops-zoom-camp-2022/session_2/mlruns/1/cf1747fba5e24f5d95d856cdc9c569a3/artifacts/model', status='READY', status_message=None, tags={}, user_id=None, version=2>"
      ]
     },
     "execution_count": 17,
     "metadata": {},
     "output_type": "execute_result"
    }
   ],
   "source": [
    "run_id = \"cf1747fba5e24f5d95d856cdc9c569a3\"\n",
    "model_uri = f\"runs:/{run_id}/model\"\n",
    "mlflow.register_model(model_uri=model_uri, name=\"nyc-taxi-regressor\")"
   ]
  },
  {
   "cell_type": "code",
   "execution_count": 19,
   "id": "c83fb802",
   "metadata": {
    "scrolled": true
   },
   "outputs": [
    {
     "data": {
      "text/plain": [
       "[<RegisteredModel: aliases={}, creation_timestamp=1685475228645, description='', last_updated_timestamp=1685475316872, latest_versions=[<ModelVersion: aliases=[], creation_timestamp=1685475316872, current_stage='None', description=None, last_updated_timestamp=1685475316872, name='nyc-taxi-regressor', run_id='cf1747fba5e24f5d95d856cdc9c569a3', run_link=None, source='/home/kylepaul/notebooks/mlops-zoom-camp-2022/session_2/mlruns/1/cf1747fba5e24f5d95d856cdc9c569a3/artifacts/model', status='READY', status_message=None, tags={}, user_id=None, version=2>], name='nyc-taxi-regressor', tags={}>]"
      ]
     },
     "execution_count": 19,
     "metadata": {},
     "output_type": "execute_result"
    }
   ],
   "source": [
    "client.search_registered_models()"
   ]
  },
  {
   "cell_type": "code",
   "execution_count": 22,
   "id": "e800c317",
   "metadata": {
    "scrolled": true
   },
   "outputs": [
    {
     "data": {
      "text/plain": [
       "[<ModelVersion: aliases=[], creation_timestamp=1685475316872, current_stage='None', description=None, last_updated_timestamp=1685475316872, name='nyc-taxi-regressor', run_id='cf1747fba5e24f5d95d856cdc9c569a3', run_link=None, source='/home/kylepaul/notebooks/mlops-zoom-camp-2022/session_2/mlruns/1/cf1747fba5e24f5d95d856cdc9c569a3/artifacts/model', status='READY', status_message=None, tags={}, user_id=None, version=2>]"
      ]
     },
     "execution_count": 22,
     "metadata": {},
     "output_type": "execute_result"
    }
   ],
   "source": [
    "model_name = \"nyc-taxi-regressor\"\n",
    "client.get_latest_versions(name=model_name)"
   ]
  },
  {
   "cell_type": "code",
   "execution_count": 23,
   "id": "a3019ee4",
   "metadata": {
    "scrolled": true
   },
   "outputs": [
    {
     "name": "stdout",
     "output_type": "stream",
     "text": [
      "version: 2, stage: None\n"
     ]
    }
   ],
   "source": [
    "for version in latest_versions:\n",
    "    print(f\"version: {version.version}, stage: {version.current_stage}\")"
   ]
  },
  {
   "cell_type": "code",
   "execution_count": 25,
   "id": "ddd64ccc",
   "metadata": {
    "scrolled": true
   },
   "outputs": [
    {
     "data": {
      "text/plain": [
       "<ModelVersion: aliases=[], creation_timestamp=1685475316872, current_stage='Staging', description=None, last_updated_timestamp=1685475689482, name='nyc-taxi-regressor', run_id='cf1747fba5e24f5d95d856cdc9c569a3', run_link=None, source='/home/kylepaul/notebooks/mlops-zoom-camp-2022/session_2/mlruns/1/cf1747fba5e24f5d95d856cdc9c569a3/artifacts/model', status='READY', status_message=None, tags={}, user_id=None, version=2>"
      ]
     },
     "execution_count": 25,
     "metadata": {},
     "output_type": "execute_result"
    }
   ],
   "source": [
    "model_version = 2\n",
    "new_stage = \"Staging\"\n",
    "client.transition_model_version_stage(\n",
    "    name=model_name,\n",
    "    version=model_version,\n",
    "    stage=new_stage,\n",
    "    archive_existing_versions=False\n",
    ")"
   ]
  },
  {
   "cell_type": "code",
   "execution_count": 26,
   "id": "4a92b86b",
   "metadata": {},
   "outputs": [
    {
     "data": {
      "text/plain": [
       "<ModelVersion: aliases=[], creation_timestamp=1685475316872, current_stage='Staging', description='The model version 2 was transitioned to Staging on 2023-05-31', last_updated_timestamp=1685475758439, name='nyc-taxi-regressor', run_id='cf1747fba5e24f5d95d856cdc9c569a3', run_link=None, source='/home/kylepaul/notebooks/mlops-zoom-camp-2022/session_2/mlruns/1/cf1747fba5e24f5d95d856cdc9c569a3/artifacts/model', status='READY', status_message=None, tags={}, user_id=None, version=2>"
      ]
     },
     "execution_count": 26,
     "metadata": {},
     "output_type": "execute_result"
    }
   ],
   "source": [
    "from datetime import datetime\n",
    "date = datetime.today().date()\n",
    "\n",
    "client.update_model_version(\n",
    "    name=model_name,\n",
    "    version=model_version,\n",
    "    description=f\"The model version {model_version} was transitioned to {new_stage} on {date}\"\n",
    ")"
   ]
  },
  {
   "cell_type": "markdown",
   "id": "05c251b6",
   "metadata": {},
   "source": [
    "## Comparing versions and selecting the new \"Production\" model\n",
    "In the last section, we will retrieve models registered in the `model registry` and compare their performance on an unseen test set. The idea is to simulate the scenario in which a deployment engineer has to interact with the model registry to decide whether to update the model version that is in production or not.\n",
    "\n",
    "These are the steps:\n",
    "\n",
    "- Load the `test dataset`, which corresponds to the `NYC Green Taxi` data from the month of March 2021.\n",
    "- Download the `DictVectorizer` that was fitted using the training data and saved to MLflow as an `artifact`, and load it with `pickle`.\n",
    "- Preprocess the test set using the `DictVectorizer` so we can properly feed the regressors.\n",
    "- Make `predictions` on the test set using the model versions that are currently in the `Staging` and `Production` stages, and compare their performance.\n",
    "- Based on the results, update the `Production` model version accordingly.\n",
    "\n",
    "**Note: the model registry doesn't actually deploy the model to production when you transition a model to the \"Production\" stage, it just assign a label to that model version. You should complement the registry with some CI/CD code that does the actual deployment.**"
   ]
  },
  {
   "cell_type": "code",
   "execution_count": 32,
   "id": "2fd20c67",
   "metadata": {},
   "outputs": [],
   "source": [
    "from sklearn.metrics import mean_squared_error\n",
    "import pandas as pd\n",
    "\n",
    "\n",
    "def read_dataframe(filename):\n",
    "    df = pd.read_parquet(filename)\n",
    "\n",
    "    df['duration'] = df.lpep_dropoff_datetime - df.lpep_pickup_datetime\n",
    "    df.duration = df.duration.apply(lambda td: td.total_seconds() / 60)\n",
    "\n",
    "    df = df[(df.duration >= 1) & (df.duration <= 60)]\n",
    "\n",
    "    categorical = ['PULocationID', 'DOLocationID']\n",
    "    df[categorical] = df[categorical].astype(str)\n",
    "    \n",
    "    return df\n",
    "\n",
    "\n",
    "def preprocess(df, dv):\n",
    "    df['PU_DO'] = df['PULocationID'] + '_' + df['DOLocationID']\n",
    "    categorical = ['PU_DO']\n",
    "    numerical = ['trip_distance']\n",
    "    train_dicts = df[categorical + numerical].to_dict(orient='records')\n",
    "    return dv.transform(train_dicts)\n",
    "\n",
    "\n",
    "def test_model(name, stage, X_test, y_test):\n",
    "    model = mlflow.pyfunc.load_model(f\"models:/{name}/{stage}\")\n",
    "    y_pred = model.predict(X_test)\n",
    "    return {\"rmse\": mean_squared_error(y_test, y_pred, squared=False)}"
   ]
  },
  {
   "cell_type": "code",
   "execution_count": 33,
   "id": "bd70edd4",
   "metadata": {
    "scrolled": false
   },
   "outputs": [
    {
     "data": {
      "text/html": [
       "<div>\n",
       "<style scoped>\n",
       "    .dataframe tbody tr th:only-of-type {\n",
       "        vertical-align: middle;\n",
       "    }\n",
       "\n",
       "    .dataframe tbody tr th {\n",
       "        vertical-align: top;\n",
       "    }\n",
       "\n",
       "    .dataframe thead th {\n",
       "        text-align: right;\n",
       "    }\n",
       "</style>\n",
       "<table border=\"1\" class=\"dataframe\">\n",
       "  <thead>\n",
       "    <tr style=\"text-align: right;\">\n",
       "      <th></th>\n",
       "      <th>VendorID</th>\n",
       "      <th>lpep_pickup_datetime</th>\n",
       "      <th>lpep_dropoff_datetime</th>\n",
       "      <th>store_and_fwd_flag</th>\n",
       "      <th>RatecodeID</th>\n",
       "      <th>PULocationID</th>\n",
       "      <th>DOLocationID</th>\n",
       "      <th>passenger_count</th>\n",
       "      <th>trip_distance</th>\n",
       "      <th>fare_amount</th>\n",
       "      <th>...</th>\n",
       "      <th>mta_tax</th>\n",
       "      <th>tip_amount</th>\n",
       "      <th>tolls_amount</th>\n",
       "      <th>ehail_fee</th>\n",
       "      <th>improvement_surcharge</th>\n",
       "      <th>total_amount</th>\n",
       "      <th>payment_type</th>\n",
       "      <th>trip_type</th>\n",
       "      <th>congestion_surcharge</th>\n",
       "      <th>duration</th>\n",
       "    </tr>\n",
       "  </thead>\n",
       "  <tbody>\n",
       "    <tr>\n",
       "      <th>0</th>\n",
       "      <td>2</td>\n",
       "      <td>2021-03-01 00:05:42</td>\n",
       "      <td>2021-03-01 00:14:03</td>\n",
       "      <td>N</td>\n",
       "      <td>1.0</td>\n",
       "      <td>83</td>\n",
       "      <td>129</td>\n",
       "      <td>1.0</td>\n",
       "      <td>1.56</td>\n",
       "      <td>7.50</td>\n",
       "      <td>...</td>\n",
       "      <td>0.5</td>\n",
       "      <td>0.00</td>\n",
       "      <td>0.0</td>\n",
       "      <td>None</td>\n",
       "      <td>0.3</td>\n",
       "      <td>8.80</td>\n",
       "      <td>1.0</td>\n",
       "      <td>1.0</td>\n",
       "      <td>0.0</td>\n",
       "      <td>8.350000</td>\n",
       "    </tr>\n",
       "    <tr>\n",
       "      <th>1</th>\n",
       "      <td>2</td>\n",
       "      <td>2021-03-01 00:21:03</td>\n",
       "      <td>2021-03-01 00:26:17</td>\n",
       "      <td>N</td>\n",
       "      <td>1.0</td>\n",
       "      <td>243</td>\n",
       "      <td>235</td>\n",
       "      <td>1.0</td>\n",
       "      <td>0.96</td>\n",
       "      <td>6.00</td>\n",
       "      <td>...</td>\n",
       "      <td>0.5</td>\n",
       "      <td>0.00</td>\n",
       "      <td>0.0</td>\n",
       "      <td>None</td>\n",
       "      <td>0.3</td>\n",
       "      <td>7.30</td>\n",
       "      <td>2.0</td>\n",
       "      <td>1.0</td>\n",
       "      <td>0.0</td>\n",
       "      <td>5.233333</td>\n",
       "    </tr>\n",
       "    <tr>\n",
       "      <th>2</th>\n",
       "      <td>2</td>\n",
       "      <td>2021-03-01 00:02:06</td>\n",
       "      <td>2021-03-01 00:22:26</td>\n",
       "      <td>N</td>\n",
       "      <td>1.0</td>\n",
       "      <td>75</td>\n",
       "      <td>242</td>\n",
       "      <td>1.0</td>\n",
       "      <td>9.93</td>\n",
       "      <td>28.00</td>\n",
       "      <td>...</td>\n",
       "      <td>0.5</td>\n",
       "      <td>2.00</td>\n",
       "      <td>0.0</td>\n",
       "      <td>None</td>\n",
       "      <td>0.3</td>\n",
       "      <td>31.30</td>\n",
       "      <td>1.0</td>\n",
       "      <td>1.0</td>\n",
       "      <td>0.0</td>\n",
       "      <td>20.333333</td>\n",
       "    </tr>\n",
       "    <tr>\n",
       "      <th>3</th>\n",
       "      <td>2</td>\n",
       "      <td>2021-03-01 00:24:03</td>\n",
       "      <td>2021-03-01 00:31:43</td>\n",
       "      <td>N</td>\n",
       "      <td>1.0</td>\n",
       "      <td>242</td>\n",
       "      <td>208</td>\n",
       "      <td>1.0</td>\n",
       "      <td>2.57</td>\n",
       "      <td>9.50</td>\n",
       "      <td>...</td>\n",
       "      <td>0.5</td>\n",
       "      <td>0.00</td>\n",
       "      <td>0.0</td>\n",
       "      <td>None</td>\n",
       "      <td>0.3</td>\n",
       "      <td>10.80</td>\n",
       "      <td>2.0</td>\n",
       "      <td>1.0</td>\n",
       "      <td>0.0</td>\n",
       "      <td>7.666667</td>\n",
       "    </tr>\n",
       "    <tr>\n",
       "      <th>4</th>\n",
       "      <td>1</td>\n",
       "      <td>2021-03-01 00:11:10</td>\n",
       "      <td>2021-03-01 00:14:46</td>\n",
       "      <td>N</td>\n",
       "      <td>1.0</td>\n",
       "      <td>41</td>\n",
       "      <td>151</td>\n",
       "      <td>1.0</td>\n",
       "      <td>0.80</td>\n",
       "      <td>5.00</td>\n",
       "      <td>...</td>\n",
       "      <td>0.5</td>\n",
       "      <td>1.85</td>\n",
       "      <td>0.0</td>\n",
       "      <td>None</td>\n",
       "      <td>0.3</td>\n",
       "      <td>8.15</td>\n",
       "      <td>1.0</td>\n",
       "      <td>1.0</td>\n",
       "      <td>0.0</td>\n",
       "      <td>3.600000</td>\n",
       "    </tr>\n",
       "    <tr>\n",
       "      <th>...</th>\n",
       "      <td>...</td>\n",
       "      <td>...</td>\n",
       "      <td>...</td>\n",
       "      <td>...</td>\n",
       "      <td>...</td>\n",
       "      <td>...</td>\n",
       "      <td>...</td>\n",
       "      <td>...</td>\n",
       "      <td>...</td>\n",
       "      <td>...</td>\n",
       "      <td>...</td>\n",
       "      <td>...</td>\n",
       "      <td>...</td>\n",
       "      <td>...</td>\n",
       "      <td>...</td>\n",
       "      <td>...</td>\n",
       "      <td>...</td>\n",
       "      <td>...</td>\n",
       "      <td>...</td>\n",
       "      <td>...</td>\n",
       "      <td>...</td>\n",
       "    </tr>\n",
       "    <tr>\n",
       "      <th>83822</th>\n",
       "      <td>2</td>\n",
       "      <td>2021-03-31 22:07:00</td>\n",
       "      <td>2021-03-31 22:13:00</td>\n",
       "      <td>None</td>\n",
       "      <td>NaN</td>\n",
       "      <td>41</td>\n",
       "      <td>75</td>\n",
       "      <td>NaN</td>\n",
       "      <td>1.48</td>\n",
       "      <td>8.46</td>\n",
       "      <td>...</td>\n",
       "      <td>0.0</td>\n",
       "      <td>1.44</td>\n",
       "      <td>0.0</td>\n",
       "      <td>None</td>\n",
       "      <td>0.3</td>\n",
       "      <td>10.20</td>\n",
       "      <td>NaN</td>\n",
       "      <td>NaN</td>\n",
       "      <td>NaN</td>\n",
       "      <td>6.000000</td>\n",
       "    </tr>\n",
       "    <tr>\n",
       "      <th>83823</th>\n",
       "      <td>2</td>\n",
       "      <td>2021-03-31 22:56:00</td>\n",
       "      <td>2021-03-31 23:13:00</td>\n",
       "      <td>None</td>\n",
       "      <td>NaN</td>\n",
       "      <td>95</td>\n",
       "      <td>95</td>\n",
       "      <td>NaN</td>\n",
       "      <td>0.09</td>\n",
       "      <td>54.25</td>\n",
       "      <td>...</td>\n",
       "      <td>0.0</td>\n",
       "      <td>0.00</td>\n",
       "      <td>0.0</td>\n",
       "      <td>None</td>\n",
       "      <td>0.3</td>\n",
       "      <td>57.30</td>\n",
       "      <td>NaN</td>\n",
       "      <td>NaN</td>\n",
       "      <td>NaN</td>\n",
       "      <td>17.000000</td>\n",
       "    </tr>\n",
       "    <tr>\n",
       "      <th>83824</th>\n",
       "      <td>2</td>\n",
       "      <td>2021-03-31 22:36:00</td>\n",
       "      <td>2021-03-31 22:45:00</td>\n",
       "      <td>None</td>\n",
       "      <td>NaN</td>\n",
       "      <td>95</td>\n",
       "      <td>95</td>\n",
       "      <td>NaN</td>\n",
       "      <td>0.66</td>\n",
       "      <td>8.11</td>\n",
       "      <td>...</td>\n",
       "      <td>0.0</td>\n",
       "      <td>0.00</td>\n",
       "      <td>0.0</td>\n",
       "      <td>None</td>\n",
       "      <td>0.3</td>\n",
       "      <td>8.41</td>\n",
       "      <td>NaN</td>\n",
       "      <td>NaN</td>\n",
       "      <td>NaN</td>\n",
       "      <td>9.000000</td>\n",
       "    </tr>\n",
       "    <tr>\n",
       "      <th>83825</th>\n",
       "      <td>2</td>\n",
       "      <td>2021-03-31 23:35:00</td>\n",
       "      <td>2021-04-01 00:00:00</td>\n",
       "      <td>None</td>\n",
       "      <td>NaN</td>\n",
       "      <td>37</td>\n",
       "      <td>14</td>\n",
       "      <td>NaN</td>\n",
       "      <td>9.58</td>\n",
       "      <td>36.83</td>\n",
       "      <td>...</td>\n",
       "      <td>0.0</td>\n",
       "      <td>0.00</td>\n",
       "      <td>0.0</td>\n",
       "      <td>None</td>\n",
       "      <td>0.3</td>\n",
       "      <td>39.88</td>\n",
       "      <td>NaN</td>\n",
       "      <td>NaN</td>\n",
       "      <td>NaN</td>\n",
       "      <td>25.000000</td>\n",
       "    </tr>\n",
       "    <tr>\n",
       "      <th>83826</th>\n",
       "      <td>2</td>\n",
       "      <td>2021-03-31 23:23:00</td>\n",
       "      <td>2021-03-31 23:32:00</td>\n",
       "      <td>None</td>\n",
       "      <td>NaN</td>\n",
       "      <td>116</td>\n",
       "      <td>166</td>\n",
       "      <td>NaN</td>\n",
       "      <td>1.88</td>\n",
       "      <td>9.46</td>\n",
       "      <td>...</td>\n",
       "      <td>0.0</td>\n",
       "      <td>2.14</td>\n",
       "      <td>0.0</td>\n",
       "      <td>None</td>\n",
       "      <td>0.3</td>\n",
       "      <td>11.90</td>\n",
       "      <td>NaN</td>\n",
       "      <td>NaN</td>\n",
       "      <td>NaN</td>\n",
       "      <td>9.000000</td>\n",
       "    </tr>\n",
       "  </tbody>\n",
       "</table>\n",
       "<p>80372 rows × 21 columns</p>\n",
       "</div>"
      ],
      "text/plain": [
       "       VendorID lpep_pickup_datetime lpep_dropoff_datetime store_and_fwd_flag  \\\n",
       "0             2  2021-03-01 00:05:42   2021-03-01 00:14:03                  N   \n",
       "1             2  2021-03-01 00:21:03   2021-03-01 00:26:17                  N   \n",
       "2             2  2021-03-01 00:02:06   2021-03-01 00:22:26                  N   \n",
       "3             2  2021-03-01 00:24:03   2021-03-01 00:31:43                  N   \n",
       "4             1  2021-03-01 00:11:10   2021-03-01 00:14:46                  N   \n",
       "...         ...                  ...                   ...                ...   \n",
       "83822         2  2021-03-31 22:07:00   2021-03-31 22:13:00               None   \n",
       "83823         2  2021-03-31 22:56:00   2021-03-31 23:13:00               None   \n",
       "83824         2  2021-03-31 22:36:00   2021-03-31 22:45:00               None   \n",
       "83825         2  2021-03-31 23:35:00   2021-04-01 00:00:00               None   \n",
       "83826         2  2021-03-31 23:23:00   2021-03-31 23:32:00               None   \n",
       "\n",
       "       RatecodeID PULocationID DOLocationID  passenger_count  trip_distance  \\\n",
       "0             1.0           83          129              1.0           1.56   \n",
       "1             1.0          243          235              1.0           0.96   \n",
       "2             1.0           75          242              1.0           9.93   \n",
       "3             1.0          242          208              1.0           2.57   \n",
       "4             1.0           41          151              1.0           0.80   \n",
       "...           ...          ...          ...              ...            ...   \n",
       "83822         NaN           41           75              NaN           1.48   \n",
       "83823         NaN           95           95              NaN           0.09   \n",
       "83824         NaN           95           95              NaN           0.66   \n",
       "83825         NaN           37           14              NaN           9.58   \n",
       "83826         NaN          116          166              NaN           1.88   \n",
       "\n",
       "       fare_amount  ...  mta_tax  tip_amount  tolls_amount  ehail_fee  \\\n",
       "0             7.50  ...      0.5        0.00           0.0       None   \n",
       "1             6.00  ...      0.5        0.00           0.0       None   \n",
       "2            28.00  ...      0.5        2.00           0.0       None   \n",
       "3             9.50  ...      0.5        0.00           0.0       None   \n",
       "4             5.00  ...      0.5        1.85           0.0       None   \n",
       "...            ...  ...      ...         ...           ...        ...   \n",
       "83822         8.46  ...      0.0        1.44           0.0       None   \n",
       "83823        54.25  ...      0.0        0.00           0.0       None   \n",
       "83824         8.11  ...      0.0        0.00           0.0       None   \n",
       "83825        36.83  ...      0.0        0.00           0.0       None   \n",
       "83826         9.46  ...      0.0        2.14           0.0       None   \n",
       "\n",
       "      improvement_surcharge  total_amount  payment_type  trip_type  \\\n",
       "0                       0.3          8.80           1.0        1.0   \n",
       "1                       0.3          7.30           2.0        1.0   \n",
       "2                       0.3         31.30           1.0        1.0   \n",
       "3                       0.3         10.80           2.0        1.0   \n",
       "4                       0.3          8.15           1.0        1.0   \n",
       "...                     ...           ...           ...        ...   \n",
       "83822                   0.3         10.20           NaN        NaN   \n",
       "83823                   0.3         57.30           NaN        NaN   \n",
       "83824                   0.3          8.41           NaN        NaN   \n",
       "83825                   0.3         39.88           NaN        NaN   \n",
       "83826                   0.3         11.90           NaN        NaN   \n",
       "\n",
       "       congestion_surcharge   duration  \n",
       "0                       0.0   8.350000  \n",
       "1                       0.0   5.233333  \n",
       "2                       0.0  20.333333  \n",
       "3                       0.0   7.666667  \n",
       "4                       0.0   3.600000  \n",
       "...                     ...        ...  \n",
       "83822                   NaN   6.000000  \n",
       "83823                   NaN  17.000000  \n",
       "83824                   NaN   9.000000  \n",
       "83825                   NaN  25.000000  \n",
       "83826                   NaN   9.000000  \n",
       "\n",
       "[80372 rows x 21 columns]"
      ]
     },
     "execution_count": 33,
     "metadata": {},
     "output_type": "execute_result"
    }
   ],
   "source": [
    "df = read_dataframe('./data/green_tripdata_2021-03.parquet')\n",
    "df"
   ]
  },
  {
   "cell_type": "code",
   "execution_count": 35,
   "id": "162e91ec",
   "metadata": {},
   "outputs": [
    {
     "data": {
      "text/plain": [
       "<ModelVersion: aliases=[], creation_timestamp=1685475228716, current_stage='Staging', description='The model version 2 was transitioned to Staging on 2023-05-31', last_updated_timestamp=1685476593663, name='nyc-taxi-regressor', run_id='8264fb3eb8fb47f69ce47e08af58922b', run_link='', source='/home/kylepaul/notebooks/mlops-zoom-camp-2022/session_2/mlruns/1/8264fb3eb8fb47f69ce47e08af58922b/artifacts/models_mlflow', status='READY', status_message=None, tags={}, user_id=None, version=1>"
      ]
     },
     "execution_count": 35,
     "metadata": {},
     "output_type": "execute_result"
    }
   ],
   "source": [
    "run_id = \"8264fb3eb8fb47f69ce47e08af58922b\"\n",
    "\n",
    "client.transition_model_version_stage(\n",
    "    name=model_name,\n",
    "    version=1,\n",
    "    stage=\"Staging\",\n",
    "    archive_existing_versions=False\n",
    ")\n",
    "\n",
    "client.update_model_version(\n",
    "    name=model_name,\n",
    "    version=1,\n",
    "    description=f\"The model version {model_version} was transitioned to {new_stage} on {date}\"\n",
    ")"
   ]
  },
  {
   "cell_type": "code",
   "execution_count": 36,
   "id": "367d0d45",
   "metadata": {},
   "outputs": [
    {
     "name": "stderr",
     "output_type": "stream",
     "text": [
      "/tmp/ipykernel_5051/2852634549.py:1: FutureWarning: ``mlflow.tracking.client.MlflowClient.download_artifacts`` is deprecated since 2.0. This method will be removed in a future release. Use ``mlflow.artifacts.download_artifacts`` instead.\n",
      "  client.download_artifacts(run_id=run_id, path='preprocessor', dst_path='.')\n"
     ]
    },
    {
     "data": {
      "text/plain": [
       "'/home/kylepaul/notebooks/mlops-zoom-camp-2022/session_2/preprocessor'"
      ]
     },
     "execution_count": 36,
     "metadata": {},
     "output_type": "execute_result"
    }
   ],
   "source": [
    "client.download_artifacts(run_id=run_id, path='preprocessor', dst_path='.')"
   ]
  },
  {
   "cell_type": "code",
   "execution_count": 37,
   "id": "dc8e7adf",
   "metadata": {},
   "outputs": [],
   "source": [
    "import pickle\n",
    "\n",
    "with open(\"preprocessor/preprocessor.b\", \"rb\") as f_in:\n",
    "    dv = pickle.load(f_in)"
   ]
  },
  {
   "cell_type": "code",
   "execution_count": 38,
   "id": "a7306a79",
   "metadata": {},
   "outputs": [],
   "source": [
    "X_test = preprocess(df, dv)\n",
    "target = \"duration\"\n",
    "y_test = df[target].values"
   ]
  },
  {
   "cell_type": "code",
   "execution_count": 40,
   "id": "51d87dd7",
   "metadata": {},
   "outputs": [
    {
     "name": "stdout",
     "output_type": "stream",
     "text": [
      "[03:00:46] WARNING: ../src/objective/regression_obj.cu:213: reg:linear is now deprecated in favor of reg:squarederror.\n",
      "CPU times: user 3.42 s, sys: 34.7 ms, total: 3.46 s\n",
      "Wall time: 1.09 s\n"
     ]
    },
    {
     "data": {
      "text/plain": [
       "{'rmse': 6.6181393247183715}"
      ]
     },
     "execution_count": 40,
     "metadata": {},
     "output_type": "execute_result"
    }
   ],
   "source": [
    "client.transition_model_version_stage(\n",
    "    name=model_name,\n",
    "    version=1,\n",
    "    stage=\"Production\",\n",
    "    archive_existing_versions=False\n",
    ")\n",
    "\n",
    "%time test_model(name=model_name, stage=\"Production\", X_test=X_test, y_test=y_test)"
   ]
  },
  {
   "cell_type": "code",
   "execution_count": null,
   "id": "1eb7c716",
   "metadata": {
    "scrolled": true
   },
   "outputs": [],
   "source": [
    "%time test_model(name=model_name, stage=\"Staging\", X_test=X_test, y_test=y_test)"
   ]
  }
 ],
 "metadata": {
  "kernelspec": {
   "display_name": "Python 3 (ipykernel)",
   "language": "python",
   "name": "python3"
  },
  "language_info": {
   "codemirror_mode": {
    "name": "ipython",
    "version": 3
   },
   "file_extension": ".py",
   "mimetype": "text/x-python",
   "name": "python",
   "nbconvert_exporter": "python",
   "pygments_lexer": "ipython3",
   "version": "3.10.9"
  }
 },
 "nbformat": 4,
 "nbformat_minor": 5
}
